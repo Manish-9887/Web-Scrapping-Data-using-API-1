{
 "cells": [
  {
   "cell_type": "code",
   "execution_count": 1,
   "id": "19bb343f",
   "metadata": {},
   "outputs": [],
   "source": [
    "import requests\n",
    "import pandas as pd"
   ]
  },
  {
   "cell_type": "code",
   "execution_count": 2,
   "id": "e81a9321",
   "metadata": {},
   "outputs": [],
   "source": [
    "# get function has only to give url\n",
    "\n",
    "# get fetch json from url and give response 200\n",
    "\n",
    "data = requests.get('https://api.themoviedb.org/3/movie/popular?api_key=3d5ce23128f87940885e0b4d793e8589&language=en-US&page=1')"
   ]
  },
  {
   "cell_type": "code",
   "execution_count": 3,
   "id": "5983a187",
   "metadata": {},
   "outputs": [],
   "source": [
    "# fetching data in json, we can also use text, xml, html etc.\n",
    "response = data.json()"
   ]
  },
  {
   "cell_type": "code",
   "execution_count": 4,
   "id": "afa1d015",
   "metadata": {},
   "outputs": [
    {
     "name": "stdout",
     "output_type": "stream",
     "text": [
      "Fast X 7.3\n",
      "John Wick: Chapter 4 7.9\n",
      "Extraction 2 7.9\n",
      "The Super Mario Bros. Movie 7.8\n",
      "Spider-Man: Across the Spider-Verse 8.7\n",
      "Transformers: Rise of the Beasts 7.3\n",
      "Hypnotic 6.4\n",
      "The Flash 6.8\n",
      "Flamin' Hot 8.2\n",
      "Ambush 6.1\n",
      "Avatar: The Way of Water 7.7\n",
      "Guardians of the Galaxy Vol. 3 8.1\n",
      "The Black Demon 6.3\n",
      "The Little Mermaid 6.2\n",
      "My Fault 8.4\n",
      "Guy Ritchie's The Covenant 7.6\n",
      "Evil Dead Rise 7.1\n",
      "Black Clover: Sword of the Wizard King 8.8\n",
      "Ant-Man and the Wasp: Quantumania 6.5\n",
      "Sisu 7.4\n"
     ]
    }
   ],
   "source": [
    "# sample example of fetching data from this json and we extract title from this\n",
    "for i in response['results']:\n",
    "    print(i['title'], i['vote_average'])"
   ]
  },
  {
   "cell_type": "code",
   "execution_count": 5,
   "id": "5576dd33",
   "metadata": {},
   "outputs": [],
   "source": [
    "\n",
    "#opularity = []\n",
    "#vote_count = []\n",
    "#vote_average=[]\n",
    "#original_language = []\n",
    "#title = []\n",
    "#release_date = []\n",
    "#overview = []\n",
    "\n",
    "\n",
    "# populating these list to later we make dictionary and then change that dictionary into dataframe\n",
    "# we have fetched data for only one page, we have to fetch data from that 2000 pages\n",
    "\n",
    "#for i in response['results']:\n",
    "    #popularity.append(i['popularity'])\n",
    "    #vote_count.append(i['vote_count'])\n",
    "    #vote_average.append(i['vote_average'])\n",
    "    #original_language.append(i['original_language'])\n",
    "    #title.append(i['title'])\n",
    "    #release_date.append(i['release_date'])\n",
    "    #overview.append(i['overview'])\n",
    "    \n",
    "#dict = {'title':title, 'overview':overview, 'original_language':original_language, 'release_date':release_date, 'popularity':popularity, 'vote_count':vote_count, 'vote_average':vote_average}\n",
    "#df = pd.DataFrame(dict)\n",
    "#df\n"
   ]
  },
  {
   "cell_type": "code",
   "execution_count": 6,
   "id": "f231fe2a",
   "metadata": {},
   "outputs": [],
   "source": [
    "final_Data = pd.DataFrame()\n",
    "for j in range(1,501):\n",
    "    response1 = requests.get('https://api.themoviedb.org/3/movie/popular?api_key=3d5ce23128f87940885e0b4d793e8589&language=en-US&page={}'.format(j)).json()\n",
    "    \n",
    "    popularity = []\n",
    "    vote_count = []\n",
    "    vote_average=[]\n",
    "    original_language = []\n",
    "    title = []\n",
    "    release_date = []\n",
    "    overview = []\n",
    "\n",
    "\n",
    "    # populating these list to later we make dictionary and then change that dictionary into dataframe\n",
    "    # we have fetched data for only one page, we have to fetch data from that 2000 pages\n",
    "\n",
    "    for i in response1['results']:\n",
    "        popularity.append(i['popularity'])\n",
    "        vote_count.append(i['vote_count'])\n",
    "        vote_average.append(i['vote_average'])\n",
    "        original_language.append(i['original_language'])\n",
    "        title.append(i['title'])\n",
    "        try:\n",
    "            release_date.append(i['release_date'])\n",
    "        except KeyError:\n",
    "            release_date.append('NaN')\n",
    "        overview.append(i['overview'])\n",
    "\n",
    "    dict = {'title':title, 'overview':overview, 'original_language':original_language, 'release_date':release_date, 'popularity':popularity, 'vote_count':vote_count, 'vote_average':vote_average}\n",
    "    df = pd.DataFrame(dict)\n",
    "    final_Data = final_Data.append(df, ignore_index = True)\n",
    "    "
   ]
  },
  {
   "cell_type": "code",
   "execution_count": 7,
   "id": "0cc78899",
   "metadata": {},
   "outputs": [
    {
     "data": {
      "text/html": [
       "<div>\n",
       "<style scoped>\n",
       "    .dataframe tbody tr th:only-of-type {\n",
       "        vertical-align: middle;\n",
       "    }\n",
       "\n",
       "    .dataframe tbody tr th {\n",
       "        vertical-align: top;\n",
       "    }\n",
       "\n",
       "    .dataframe thead th {\n",
       "        text-align: right;\n",
       "    }\n",
       "</style>\n",
       "<table border=\"1\" class=\"dataframe\">\n",
       "  <thead>\n",
       "    <tr style=\"text-align: right;\">\n",
       "      <th></th>\n",
       "      <th>title</th>\n",
       "      <th>overview</th>\n",
       "      <th>original_language</th>\n",
       "      <th>release_date</th>\n",
       "      <th>popularity</th>\n",
       "      <th>vote_count</th>\n",
       "      <th>vote_average</th>\n",
       "    </tr>\n",
       "  </thead>\n",
       "  <tbody>\n",
       "    <tr>\n",
       "      <th>0</th>\n",
       "      <td>Fast X</td>\n",
       "      <td>Over many missions and against impossible odds...</td>\n",
       "      <td>en</td>\n",
       "      <td>2023-05-17</td>\n",
       "      <td>6682.100</td>\n",
       "      <td>1848</td>\n",
       "      <td>7.3</td>\n",
       "    </tr>\n",
       "    <tr>\n",
       "      <th>1</th>\n",
       "      <td>John Wick: Chapter 4</td>\n",
       "      <td>With the price on his head ever increasing, Jo...</td>\n",
       "      <td>en</td>\n",
       "      <td>2023-03-22</td>\n",
       "      <td>2679.151</td>\n",
       "      <td>3156</td>\n",
       "      <td>7.9</td>\n",
       "    </tr>\n",
       "    <tr>\n",
       "      <th>2</th>\n",
       "      <td>Extraction 2</td>\n",
       "      <td>Tasked with extracting a family who is at the ...</td>\n",
       "      <td>en</td>\n",
       "      <td>2023-06-16</td>\n",
       "      <td>2314.736</td>\n",
       "      <td>585</td>\n",
       "      <td>7.9</td>\n",
       "    </tr>\n",
       "    <tr>\n",
       "      <th>3</th>\n",
       "      <td>The Super Mario Bros. Movie</td>\n",
       "      <td>While working underground to fix a water main,...</td>\n",
       "      <td>en</td>\n",
       "      <td>2023-04-05</td>\n",
       "      <td>2109.848</td>\n",
       "      <td>4930</td>\n",
       "      <td>7.8</td>\n",
       "    </tr>\n",
       "    <tr>\n",
       "      <th>4</th>\n",
       "      <td>Spider-Man: Across the Spider-Verse</td>\n",
       "      <td>After reuniting with Gwen Stacy, Brooklyn’s fu...</td>\n",
       "      <td>en</td>\n",
       "      <td>2023-05-31</td>\n",
       "      <td>2096.335</td>\n",
       "      <td>1557</td>\n",
       "      <td>8.7</td>\n",
       "    </tr>\n",
       "    <tr>\n",
       "      <th>...</th>\n",
       "      <td>...</td>\n",
       "      <td>...</td>\n",
       "      <td>...</td>\n",
       "      <td>...</td>\n",
       "      <td>...</td>\n",
       "      <td>...</td>\n",
       "      <td>...</td>\n",
       "    </tr>\n",
       "    <tr>\n",
       "      <th>9995</th>\n",
       "      <td>Two Moon Junction</td>\n",
       "      <td>A young Southern débutante temporarily abandon...</td>\n",
       "      <td>en</td>\n",
       "      <td>1988-04-29</td>\n",
       "      <td>12.660</td>\n",
       "      <td>154</td>\n",
       "      <td>6.1</td>\n",
       "    </tr>\n",
       "    <tr>\n",
       "      <th>9996</th>\n",
       "      <td>A Girl Walks Home Alone at Night</td>\n",
       "      <td>In the Iranian ghost-town Bad City, a place th...</td>\n",
       "      <td>en</td>\n",
       "      <td>2014-11-21</td>\n",
       "      <td>12.659</td>\n",
       "      <td>750</td>\n",
       "      <td>6.8</td>\n",
       "    </tr>\n",
       "    <tr>\n",
       "      <th>9997</th>\n",
       "      <td>Hatchet</td>\n",
       "      <td>When a group of tourists on a New Orleans haun...</td>\n",
       "      <td>en</td>\n",
       "      <td>2006-04-27</td>\n",
       "      <td>12.659</td>\n",
       "      <td>562</td>\n",
       "      <td>5.8</td>\n",
       "    </tr>\n",
       "    <tr>\n",
       "      <th>9998</th>\n",
       "      <td>The Umbrellas of Cherbourg</td>\n",
       "      <td>This simple romantic tragedy begins in 1957. G...</td>\n",
       "      <td>fr</td>\n",
       "      <td>1964-02-19</td>\n",
       "      <td>12.658</td>\n",
       "      <td>641</td>\n",
       "      <td>7.4</td>\n",
       "    </tr>\n",
       "    <tr>\n",
       "      <th>9999</th>\n",
       "      <td>A Little Thing Called Love</td>\n",
       "      <td>Keen to win the affections of her popular crus...</td>\n",
       "      <td>th</td>\n",
       "      <td>2010-08-12</td>\n",
       "      <td>12.657</td>\n",
       "      <td>96</td>\n",
       "      <td>7.8</td>\n",
       "    </tr>\n",
       "  </tbody>\n",
       "</table>\n",
       "<p>10000 rows × 7 columns</p>\n",
       "</div>"
      ],
      "text/plain": [
       "                                    title  \\\n",
       "0                                  Fast X   \n",
       "1                    John Wick: Chapter 4   \n",
       "2                            Extraction 2   \n",
       "3             The Super Mario Bros. Movie   \n",
       "4     Spider-Man: Across the Spider-Verse   \n",
       "...                                   ...   \n",
       "9995                    Two Moon Junction   \n",
       "9996     A Girl Walks Home Alone at Night   \n",
       "9997                              Hatchet   \n",
       "9998           The Umbrellas of Cherbourg   \n",
       "9999           A Little Thing Called Love   \n",
       "\n",
       "                                               overview original_language  \\\n",
       "0     Over many missions and against impossible odds...                en   \n",
       "1     With the price on his head ever increasing, Jo...                en   \n",
       "2     Tasked with extracting a family who is at the ...                en   \n",
       "3     While working underground to fix a water main,...                en   \n",
       "4     After reuniting with Gwen Stacy, Brooklyn’s fu...                en   \n",
       "...                                                 ...               ...   \n",
       "9995  A young Southern débutante temporarily abandon...                en   \n",
       "9996  In the Iranian ghost-town Bad City, a place th...                en   \n",
       "9997  When a group of tourists on a New Orleans haun...                en   \n",
       "9998  This simple romantic tragedy begins in 1957. G...                fr   \n",
       "9999  Keen to win the affections of her popular crus...                th   \n",
       "\n",
       "     release_date  popularity  vote_count  vote_average  \n",
       "0      2023-05-17    6682.100        1848           7.3  \n",
       "1      2023-03-22    2679.151        3156           7.9  \n",
       "2      2023-06-16    2314.736         585           7.9  \n",
       "3      2023-04-05    2109.848        4930           7.8  \n",
       "4      2023-05-31    2096.335        1557           8.7  \n",
       "...           ...         ...         ...           ...  \n",
       "9995   1988-04-29      12.660         154           6.1  \n",
       "9996   2014-11-21      12.659         750           6.8  \n",
       "9997   2006-04-27      12.659         562           5.8  \n",
       "9998   1964-02-19      12.658         641           7.4  \n",
       "9999   2010-08-12      12.657          96           7.8  \n",
       "\n",
       "[10000 rows x 7 columns]"
      ]
     },
     "execution_count": 7,
     "metadata": {},
     "output_type": "execute_result"
    }
   ],
   "source": [
    "final_Data"
   ]
  },
  {
   "cell_type": "code",
   "execution_count": 10,
   "id": "3681798f",
   "metadata": {},
   "outputs": [],
   "source": [
    "final_Data['release_date'] = pd.to_datetime(final_Data['release_date'])"
   ]
  },
  {
   "cell_type": "code",
   "execution_count": 11,
   "id": "d87a8890",
   "metadata": {},
   "outputs": [
    {
     "name": "stdout",
     "output_type": "stream",
     "text": [
      "<class 'pandas.core.frame.DataFrame'>\n",
      "RangeIndex: 10000 entries, 0 to 9999\n",
      "Data columns (total 7 columns):\n",
      " #   Column             Non-Null Count  Dtype         \n",
      "---  ------             --------------  -----         \n",
      " 0   title              10000 non-null  object        \n",
      " 1   overview           10000 non-null  object        \n",
      " 2   original_language  10000 non-null  object        \n",
      " 3   release_date       9981 non-null   datetime64[ns]\n",
      " 4   popularity         10000 non-null  float64       \n",
      " 5   vote_count         10000 non-null  int64         \n",
      " 6   vote_average       10000 non-null  float64       \n",
      "dtypes: datetime64[ns](1), float64(2), int64(1), object(3)\n",
      "memory usage: 547.0+ KB\n"
     ]
    }
   ],
   "source": [
    "final_Data.info()"
   ]
  },
  {
   "cell_type": "code",
   "execution_count": 14,
   "id": "299b3477",
   "metadata": {},
   "outputs": [
    {
     "data": {
      "text/plain": [
       "title                 0\n",
       "overview              0\n",
       "original_language     0\n",
       "release_date         19\n",
       "popularity            0\n",
       "vote_count            0\n",
       "vote_average          0\n",
       "dtype: int64"
      ]
     },
     "execution_count": 14,
     "metadata": {},
     "output_type": "execute_result"
    }
   ],
   "source": [
    "final_Data.isnull().sum()"
   ]
  },
  {
   "cell_type": "code",
   "execution_count": 16,
   "id": "c5518fce",
   "metadata": {},
   "outputs": [
    {
     "data": {
      "text/plain": [
       "title                0\n",
       "overview             0\n",
       "original_language    0\n",
       "release_date         0\n",
       "popularity           0\n",
       "vote_count           0\n",
       "vote_average         0\n",
       "dtype: int64"
      ]
     },
     "execution_count": 16,
     "metadata": {},
     "output_type": "execute_result"
    }
   ],
   "source": [
    "final_Data.dropna(inplace = True)\n",
    "final_Data.isnull().sum()"
   ]
  },
  {
   "cell_type": "code",
   "execution_count": 17,
   "id": "163b8f65",
   "metadata": {},
   "outputs": [],
   "source": [
    "# exporting this dataframe to CSV\n",
    "final_Data.to_csv('Most popular Movies on tmdb.csv')"
   ]
  },
  {
   "cell_type": "code",
   "execution_count": null,
   "id": "bf7f27d5",
   "metadata": {},
   "outputs": [],
   "source": []
  }
 ],
 "metadata": {
  "kernelspec": {
   "display_name": "Python 3",
   "language": "python",
   "name": "python3"
  },
  "language_info": {
   "codemirror_mode": {
    "name": "ipython",
    "version": 3
   },
   "file_extension": ".py",
   "mimetype": "text/x-python",
   "name": "python",
   "nbconvert_exporter": "python",
   "pygments_lexer": "ipython3",
   "version": "3.8.8"
  }
 },
 "nbformat": 4,
 "nbformat_minor": 5
}
